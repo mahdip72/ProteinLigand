{
  "nbformat": 4,
  "nbformat_minor": 0,
  "metadata": {
    "colab": {
      "provenance": []
    },
    "kernelspec": {
      "name": "python3",
      "display_name": "Python 3"
    },
    "language_info": {
      "name": "python"
    }
  },
  "cells": [
    {
      "cell_type": "code",
      "source": [
        "!pip install biopython\n"
      ],
      "metadata": {
        "colab": {
          "base_uri": "https://localhost:8080/"
        },
        "id": "pXfqDjOn7fzA",
        "outputId": "b6bf49d5-ecfe-4868-c200-0c438f83a326"
      },
      "execution_count": null,
      "outputs": [
        {
          "output_type": "stream",
          "name": "stdout",
          "text": [
            "Collecting biopython\n",
            "  Downloading biopython-1.85-cp311-cp311-manylinux_2_17_x86_64.manylinux2014_x86_64.whl.metadata (13 kB)\n",
            "Requirement already satisfied: numpy in /usr/local/lib/python3.11/dist-packages (from biopython) (1.26.4)\n",
            "Downloading biopython-1.85-cp311-cp311-manylinux_2_17_x86_64.manylinux2014_x86_64.whl (3.3 MB)\n",
            "\u001b[2K   \u001b[90m━━━━━━━━━━━━━━━━━━━━━━━━━━━━━━━━━━━━━━━━\u001b[0m \u001b[32m3.3/3.3 MB\u001b[0m \u001b[31m17.6 MB/s\u001b[0m eta \u001b[36m0:00:00\u001b[0m\n",
            "\u001b[?25hInstalling collected packages: biopython\n",
            "Successfully installed biopython-1.85\n"
          ]
        }
      ]
    },
    {
      "cell_type": "markdown",
      "source": [
        "**Download sequences file**"
      ],
      "metadata": {
        "id": "J2hmlUWNGTkp"
      }
    },
    {
      "cell_type": "code",
      "source": [
        "import requests\n",
        "import gzip\n",
        "import shutil\n",
        "\n",
        "# Step 1: Download the file\n",
        "url = \"https://seq2fun.dcmb.med.umich.edu//BioLiP/data/protein_nr.fasta.gz\"\n",
        "file_name = \"protein_nr.fasta.gz\"\n",
        "\n",
        "response = requests.get(url, stream=True)\n",
        "\n",
        "# Save the downloaded file\n",
        "with open(file_name, 'wb') as f:\n",
        "    f.write(response.content)\n",
        "\n",
        "print(f\"{file_name} downloaded successfully!\")\n",
        "\n",
        "# Step 2: Extract the file\n",
        "extracted_file_name = \"protein_nr.fasta\"\n",
        "\n",
        "with gzip.open(file_name, 'rb') as f_in:\n",
        "    with open(extracted_file_name, 'wb') as f_out:\n",
        "        shutil.copyfileobj(f_in, f_out)\n",
        "\n",
        "print(f\"{extracted_file_name} extracted successfully!\")\n",
        "\n",
        "# Optional: Display the first few lines of the extracted file\n",
        "with open(extracted_file_name, 'r') as f:\n",
        "    for _ in range(10):  # Display the first 10 lines\n",
        "        print(f.readline().strip())\n"
      ],
      "metadata": {
        "colab": {
          "base_uri": "https://localhost:8080/"
        },
        "id": "sYS-yw2w6jAh",
        "outputId": "02096286-c5a3-49c7-af90-2d3a988bc901"
      },
      "execution_count": null,
      "outputs": [
        {
          "output_type": "stream",
          "name": "stdout",
          "text": [
            "protein_nr.fasta.gz downloaded successfully!\n",
            "protein_nr.fasta extracted successfully!\n",
            ">207lA\n",
            "KVFERCELARTLKRLGMDGYRGISLANWMCLAKWESGYNTRATNYNAGDRSTDYGIFQINSRYWCNDGKTPGAVNAAHLSCSALLQDNIADAVACAKRVVRDPQGIRAWVAWRNRCQNRDVRQYVQGCGV\n",
            ">10mhA\n",
            "MIEIKDKQLTGLRFIDLFAGLGGFRLALESCGAECVYSNEWDKYAQEVYEMNFGEKPEGDITQVNEKTIPDHDILCAGFPCQAFSISGKQKGFEDSRGTLFFDIARIVREKKPKVVFMENVKNFASHDNGNTLEVVKNTMNELDYSFHAKVLNALDYGIPQKRERIYMICFRNDLNIQNFQFPKPFELNTFVKDLLLPDSEVEHLVIDRKDLVMTNQEIEQTTPKTVRLGIVGKGGQGERIYSTRGIAITLSAYGGGIFAKTGGYLVNGKTRKLHPRECARVMGYPDSYKVHPSTSQAYKQFGNSVVINVLQYIAYNIGSSLNFKPY\n",
            ">11asA\n",
            "AYIAKQRQISFVKSHFSRQLEERLGLIEVQAPILSRVGDGTQDNLSGAEKAVQVKVKALPDAQFEVVHSLAKWKRQTLGQHDFSAGEGLYTHMKALRPDEDRLSPLHSVYVDQWDWERVMGDGERQFSTLKSTVEAIWAGIKATEAAVSEEFGLAPFLPDQIHFVHSQELLSRYPDLDAKGRERAIAKDLGAVFLVGIGGKLSDGHRHDVRAPDYDDWSTPSELGHAGLNGDILVWNPVLEDAFELSSMGIRVDADTLKHQLALTGDEDRLELEWHQALLRGEMPQTIGGGIGQSRLTMLLLQLPHIGQVQAGVWPAAVRESVPSLL\n",
            ">11baA\n",
            "KESAAAKFERQHMDSGNSPSSSSNYCNLMMCCRKMTQGKCKPVNTFVHESLADVKAVCSQKKVTCKNGQTNCYQSKSTMRITDCRETGSSKYPNCAYKTTQVEKHIIVACGGKPSVPVHFDASV\n",
            ">43caA\n",
            "DVVMTQTPSSLAMSVGQKVTMSCKSSQSLLNISNQKNYLAWYQQKPGQSPKLLVYFASTRESGVPDRFIGSGSGTDFTLTISSVQAEDQADYFCQQHYRAPRTFGGGTKLEIK\n"
          ]
        }
      ]
    },
    {
      "cell_type": "markdown",
      "source": [
        "**Download Annotations file**"
      ],
      "metadata": {
        "id": "4ko1WJ1XGXkJ"
      }
    },
    {
      "cell_type": "code",
      "source": [
        "import requests\n",
        "import gzip\n",
        "import shutil\n",
        "\n",
        "# Step 1: Download the file\n",
        "url = \"https://seq2fun.dcmb.med.umich.edu//BioLiP/download/BioLiP_nr.txt.gz\"\n",
        "file_name = \"BioLiP_nr.txt.gz\"\n",
        "\n",
        "response = requests.get(url, stream=True)\n",
        "\n",
        "# Save the downloaded file\n",
        "with open(file_name, 'wb') as f:\n",
        "    f.write(response.content)\n",
        "\n",
        "print(f\"{file_name} downloaded successfully!\")\n",
        "\n",
        "# Step 2: Extract the file\n",
        "extracted_file_name = \"BioLiP_nr.txt\"\n",
        "\n",
        "with gzip.open(file_name, 'rb') as f_in:\n",
        "    with open(extracted_file_name, 'wb') as f_out:\n",
        "        shutil.copyfileobj(f_in, f_out)\n",
        "\n",
        "print(f\"{extracted_file_name} extracted successfully!\")\n",
        "\n",
        "# Optional: Display the first few lines of the extracted file\n",
        "with open(extracted_file_name, 'r') as f:\n",
        "    for _ in range(10):  # Display the first 10 lines\n",
        "        print(f.readline().strip())\n"
      ],
      "metadata": {
        "colab": {
          "base_uri": "https://localhost:8080/"
        },
        "id": "crriHEKD7JU5",
        "outputId": "039fad6c-155e-4a20-89bb-f1163ef523c4"
      },
      "execution_count": null,
      "outputs": [
        {
          "output_type": "stream",
          "name": "stdout",
          "text": [
            "BioLiP_nr.txt.gz downloaded successfully!\n",
            "BioLiP_nr.txt extracted successfully!\n",
            "10mh\tA\t2.55\tBS01\tdna\tB\t0\tI86 Q90 R209 G236 Q237 G256 G257\tI86 Q90 R209 G236 Q237 G256 G257\tC81 E119 R163 R165\tC81 E119 R163 R165\t2.1.1.37\t0003677,0003886,0008168,0009307,0032259\t\t\t\t\tP05102\t9925782\t402 ~ 413 \tMIEIKDKQLTGLRFIDLFAGLGGFRLALESCGAECVYSNEWDKYAQEVYEMNFGEKPEGDITQVNEKTIPDHDILCAGFPCQAFSISGKQKGFEDSRGTLFFDIARIVREKKPKVVFMENVKNFASHDNGNTLEVVKNTMNELDYSFHAKVLNALDYGIPQKRERIYMICFRNDLNIQNFQFPKPFELNTFVKDLLLPDSEVEHLVIDRKDLVMTNQEIEQTTPKTVRLGIVGKGGQGERIYSTRGIAITLSAYGGGIFAKTGGYLVNGKTRKLHPRECARVMGYPDSYKVHPSTSQAYKQFGNSVVINVLQYIAYNIGSSLNFKPY\n",
            "10mh\tA\t2.55\tBS02\tdna\tC\t0\tF79 C81 S87 E119 R165 R228 Q237 R240 I249 T250 A253 Y254 G255 G303\tF79 C81 S87 E119 R165 R228 Q237 R240 I249 T250 A253 Y254 G255 G303\tC81 E119 R163 R165\tC81 E119 R163 R165\t2.1.1.37\t0003677,0003886,0008168,0009307,0032259\t\t\t\t\tP05102\t9925782\t422 ~ 433 \tMIEIKDKQLTGLRFIDLFAGLGGFRLALESCGAECVYSNEWDKYAQEVYEMNFGEKPEGDITQVNEKTIPDHDILCAGFPCQAFSISGKQKGFEDSRGTLFFDIARIVREKKPKVVFMENVKNFASHDNGNTLEVVKNTMNELDYSFHAKVLNALDYGIPQKRERIYMICFRNDLNIQNFQFPKPFELNTFVKDLLLPDSEVEHLVIDRKDLVMTNQEIEQTTPKTVRLGIVGKGGQGERIYSTRGIAITLSAYGGGIFAKTGGYLVNGKTRKLHPRECARVMGYPDSYKVHPSTSQAYKQFGNSVVINVLQYIAYNIGSSLNFKPY\n",
            "10mh\tA\t2.55\tBS03\tSAH\tA\t1\tF18 A19 G20 L21 G23 E40 W41 D60 N304 S305\tF18 A19 G20 L21 G23 E40 W41 D60 N304 S305\tC81 E119 R163 R165\tC81 E119 R163 R165\t2.1.1.37\t0003677,0003886,0008168,0009307,0032259\t\t\t\t\tP05102\t9925782\t328 \tMIEIKDKQLTGLRFIDLFAGLGGFRLALESCGAECVYSNEWDKYAQEVYEMNFGEKPEGDITQVNEKTIPDHDILCAGFPCQAFSISGKQKGFEDSRGTLFFDIARIVREKKPKVVFMENVKNFASHDNGNTLEVVKNTMNELDYSFHAKVLNALDYGIPQKRERIYMICFRNDLNIQNFQFPKPFELNTFVKDLLLPDSEVEHLVIDRKDLVMTNQEIEQTTPKTVRLGIVGKGGQGERIYSTRGIAITLSAYGGGIFAKTGGYLVNGKTRKLHPRECARVMGYPDSYKVHPSTSQAYKQFGNSVVINVLQYIAYNIGSSLNFKPY\n",
            "11as\tA\t2.5\tBS01\tASN\tA\t1\tD46 A74 Q116 Y218 S251 R255\tD43 A71 Q113 Y215 S248 R252\tD46 R100 Q116 D235 E248 S251\tD43 R97 Q113 D232 E245 S248\t6.3.1.1\t0004071,0005524,0005737,0005829,0006529,0006974,0016874,0042802,0042803,0070981\t\t\t\t\tP00963\t9437423\t331 \tAYIAKQRQISFVKSHFSRQLEERLGLIEVQAPILSRVGDGTQDNLSGAEKAVQVKVKALPDAQFEVVHSLAKWKRQTLGQHDFSAGEGLYTHMKALRPDEDRLSPLHSVYVDQWDWERVMGDGERQFSTLKSTVEAIWAGIKATEAAVSEEFGLAPFLPDQIHFVHSQELLSRYPDLDAKGRERAIAKDLGAVFLVGIGGKLSDGHRHDVRAPDYDDWSTPSELGHAGLNGDILVWNPVLEDAFELSSMGIRVDADTLKHQLALTGDEDRLELEWHQALLRGEMPQTIGGGIGQSRLTMLLLQLPHIGQVQAGVWPAAVRESVPSLL\n",
            "11ba\tA\t2.06\tBS01\tUPA\tA\t1\tK41 V43 N44 T45 N67 Q69 N71 A109 H119 F120\tK41 V43 N44 T45 N67 Q69 N71 A109 H119 F120\tH12 K41 H119 F120 D121\tH12 K41 H119 F120 D121\t4.6.1.18\t0003676,0004519,0004522,0004540,0005576,0016829,0042802,0050830,0051607\t\t\t\t\tP00669\t10082366\t125 \tKESAAAKFERQHMDSGNSPSSSSNYCNLMMCCRKMTQGKCKPVNTFVHESLADVKAVCSQKKVTCKNGQTNCYQSKSTMRITDCRETGSSKYPNCAYKTTQVEKHIIVACGGKPSVPVHFDASV\n",
            "13pk\tA\t2.5\tBS01\tADP\tA\t1\tG217 A218 K223 L315 P340 G342 V343 E345 G375 D377 S378\tG213 A214 K219 L311 P336 G338 V339 E341 G371 D373 S374\tR39 K219 G376 G399\tR35 K215 G372 G395\t2.7.2.3\t0004618,0005524,0005829,0006094,0006096,0016301,0016310,0020015,0043531\t\t\t\t\tP07378\t9000079\t421 \tEKKSINECDLKGKKVLIRVDFNVPVKNGKITNDYRIRSALPTLKKVLTEGGSCVLMSHLGRPKGIPMAQAGKIRSTGGVPGFQQKATLKPVAKRLSELLLRPVTFAPDCLNAADVVSKMSPGDVVLLENVRFYKEEGSKKAKDREAMAKILASYGDVYISDAFGTAHRDSATMTGIPKILGNGAAGYLMEKEISYFAKVLGNPPRPLVAIVGGAKVSDKIQLLDNMLQRIDYLLIGGAMAYTFLKAQGYSIGKSKCEESKLEFARSLLKKAEDRKVQVILPIDHVCHTEFKAVDSPLITEDQNIPEGHMALDIGPKTIEKYVQTIGKCKSAIWNGPMGVFEMVPYSKGTFAIAKAMGRGTHEHGLMSIIGGGDSASAAELSGEAKRMSHVSTGGGASLELLEGKTLPGVTVLDDK\n",
            "155c\tA\t2.5\tBS01\tHEM\tA\t1\tC15 C18 H19 I46 A47 Y54 G55 I58 W70 Y78 V79 K98 M99\tC15 C18 H19 I46 A47 Y54 G55 I58 W70 Y78 V79 K98 M99\t\t\t?\t0009055,0020037,0046872\t\t\t\t\tP00096\t180013\t135 \tNEGDAAKGEKEFNKCKACHMIQAPDGTDIKGGKTGPNLYGVVGRKIASEEGFKYGEGILEVAEKNPDLTWTEANLIEYVTDPKPLVKKMTDDKGAKTKMTFKMGKNQADVVAFLAQDDPDAGGGGGGGGGGGGG\n",
            "193l\tA\t1.33\tBS01\tNA\tA\t1\tS60 C64 N65 S72 R73\tS60 C64 N65 S72 R73\tE35 N46 D48 S50 D52 N59\tE35 N46 D48 S50 D52 N59\t3.2.1.17\t0003796,0005515,0005576,0005615,0005737,0005783,0016231,0016798,0016998,0031640,0042742,0042802,0050829,0050830,0051672\t\t\t\t\tP00698\t15299672\t131 \tKVFGRCELAAAMKRHGLDNYRGYSLGNWVCAAKFESNFNTQATNRNTDGSTDYGILQINSRWWCNDGRTPGSRNLCNIPCSALLSSDITASVNCAKKIVSDGNGMNAWVAWRNRCKGTDVQAWIRGCRL\n",
            "19hc\tA\t1.8\tBS01\tHEM\tA\t1\tS8 A10 M16 F35 H37 H40 I44 C47 C50 H51 P56 V57 S58\tS8 A10 M16 F35 H37 H40 I44 C47 C50 H51 P56 V57 S58\t\t\t?\t0009055,0020037,0042597,0046872\t\t\t\t\tQ9RN68\t10368280\t301 \tAALEPTDSGAPSAIVMFPVGEKPNPKGAAMKPVVFNHLIHEKKIADCETCHHTGDPVSCSTCHTVEGKAEGDYITLDRAMHATDIAARAKGNTPTSCVSCHQSETKERRECAGCHAITTPKDDEAWCATCHDITPSMTPSEMQKGIAGTLLPGDNEALAAETVLAEATVAPVSPMLAPYKVVIDALADKYEPSDFTHRRHLTSLMESIKDDKLAQAFHDKPEILCATCHHRSPLSLTPPKCGSCHTKEIDAADPGRPNLMAAYHLECMGCHKGMAVARPRDTDCTTCHKAAA\n",
            "19hc\tA\t1.8\tBS02\tHEM\tA\t2\tH52 T53 C59 C62 H63 E70 G71 D72 R78 A79 R88 P94 T95\tH52 T53 C59 C62 H63 E70 G71 D72 R78 A79 R88 P94 T95\t\t\t?\t0009055,0020037,0042597,0046872\t\t\t\t\tQ9RN68\t10368280\t302 \tAALEPTDSGAPSAIVMFPVGEKPNPKGAAMKPVVFNHLIHEKKIADCETCHHTGDPVSCSTCHTVEGKAEGDYITLDRAMHATDIAARAKGNTPTSCVSCHQSETKERRECAGCHAITTPKDDEAWCATCHDITPSMTPSEMQKGIAGTLLPGDNEALAAETVLAEATVAPVSPMLAPYKVVIDALADKYEPSDFTHRRHLTSLMESIKDDKLAQAFHDKPEILCATCHHRSPLSLTPPKCGSCHTKEIDAADPGRPNLMAAYHLECMGCHKGMAVARPRDTDCTTCHKAAA\n"
          ]
        }
      ]
    },
    {
      "cell_type": "markdown",
      "source": [
        "**Store the data in a DataFrame and generate the CSV file (All Ligands)**"
      ],
      "metadata": {
        "id": "nt2eHaUc3Esw"
      }
    },
    {
      "cell_type": "code",
      "source": [
        "import pandas as pd\n",
        "\n",
        "# Load the BioLiP annotation file into a pandas DataFrame\n",
        "df = pd.read_csv('BioLiP_nr.txt', sep='\\t', header=None, low_memory=False)\n",
        "\n",
        "# Define column names based on the structure provided\n",
        "df.columns = [\n",
        "    'PDB_ID', 'Receptor_Chain', 'Resolution', 'Binding_Site_Code', 'Ligand_ID',\n",
        "    'Ligand_Chain', 'Ligand_Serial_Number', 'Binding_Site_Residues',\n",
        "    'Renumbered_Binding_Site_Residues', 'Catalytic_Site_Residues',\n",
        "    'Renumbered_Catalytic_Site_Residues', 'EC_Number', 'GO_Terms',\n",
        "    'Binding_Affinity_Manual', 'Binding_Affinity_MOAD', 'Binding_Affinity_PDBBind',\n",
        "    'Binding_Affinity_BindingDB', 'UniProt_ID', 'PubMed_ID',\n",
        "    'Ligand_Sequence_Number', 'Receptor_Sequence'\n",
        "]\n",
        "\n",
        "# Add a condition to filter out NaN values in the 'Receptor_Chain' column\n",
        "entries = df[df['Receptor_Chain'].notna()]\n",
        "\n",
        "# Exclude entries where Ligand_ID is \"peptide\" or \"dna\"\n",
        "entries = entries[~entries['Ligand_ID'].str.lower().isin(['peptide', 'dna','rna'])]\n",
        "\n",
        "# Filter for entries where 'Receptor_Chain' is exactly one letter (no numbers or multiple letters)\n",
        "entries = entries[entries['Receptor_Chain'].str.match(r'^[A-Za-z]$', na=False)]\n",
        "\n",
        "# Group by PDB_ID, Receptor_Chain, and Ligand_ID, and combine Renumbered_Binding_Site_Residues\n",
        "combined_entries = entries.groupby(['PDB_ID', 'Receptor_Chain', 'Ligand_ID'], as_index=False).agg({\n",
        "    'Renumbered_Binding_Site_Residues': lambda x: ' '.join(x),  # Combine all binding site residues\n",
        "    'Receptor_Sequence': 'first'\n",
        "})\n",
        "\n",
        "# Add a new column for the sequence length\n",
        "combined_entries['Sequence_Length'] = combined_entries['Receptor_Sequence'].apply(len)\n",
        "\n",
        "# Filter out sequences where the Sequence_Length is less than 50 or greater than 1000\n",
        "combined_entries_filtered = combined_entries[(combined_entries['Sequence_Length'] >= 50) & (combined_entries['Sequence_Length'] <= 1000)]\n",
        "\n",
        "# Rename the 'Receptor_Chain' column to 'Chain'\n",
        "combined_entries_filtered.rename(columns={'Receptor_Chain': 'Chain'}, inplace=True)\n",
        "\n",
        "# Reorder columns to place \"Ligand_ID\" (the ligand identifier) as the first column\n",
        "columns_order = ['Ligand_ID', 'PDB_ID', 'Chain', 'Renumbered_Binding_Site_Residues', 'Sequence_Length', 'Receptor_Sequence']\n",
        "combined_entries_filtered = combined_entries_filtered[columns_order]\n",
        "\n",
        "# Display the filtered data\n",
        "print(combined_entries_filtered)\n",
        "\n",
        "# Optionally, save the filtered data to a CSV file\n",
        "combined_entries_filtered.to_csv('all_entries.csv', index=False)\n"
      ],
      "metadata": {
        "colab": {
          "base_uri": "https://localhost:8080/"
        },
        "id": "7AjELHAQ4x2C",
        "outputId": "b84a078e-4508-4970-db35-2e8cd58cf2e3"
      },
      "execution_count": null,
      "outputs": [
        {
          "output_type": "stream",
          "name": "stderr",
          "text": [
            "<ipython-input-4-7a83c253dc62>:39: SettingWithCopyWarning: \n",
            "A value is trying to be set on a copy of a slice from a DataFrame\n",
            "\n",
            "See the caveats in the documentation: https://pandas.pydata.org/pandas-docs/stable/user_guide/indexing.html#returning-a-view-versus-a-copy\n",
            "  combined_entries_filtered.rename(columns={'Receptor_Chain': 'Chain'}, inplace=True)\n"
          ]
        },
        {
          "output_type": "stream",
          "name": "stdout",
          "text": [
            "      Ligand_ID PDB_ID Chain  \\\n",
            "0           SAH   10mh     A   \n",
            "1           ASN   11as     A   \n",
            "2           UPA   11ba     A   \n",
            "3           ADP   13pk     A   \n",
            "4           HEM   155c     A   \n",
            "...         ...    ...   ...   \n",
            "40448       BT5   9j8e     B   \n",
            "40449       BGC   9j9a     A   \n",
            "40452       MTA   9jd2     A   \n",
            "40453        CU   9pcy     A   \n",
            "40454       RUB   9rub     A   \n",
            "\n",
            "                        Renumbered_Binding_Site_Residues  Sequence_Length  \\\n",
            "0              F18 A19 G20 L21 G23 E40 W41 D60 N304 S305              327   \n",
            "1                            D43 A71 Q113 Y215 S248 R252              327   \n",
            "2             K41 V43 N44 T45 N67 Q69 N71 A109 H119 F120              124   \n",
            "3      G213 A214 K219 L311 P336 G338 V339 E341 G371 D...              415   \n",
            "4      C15 C18 H19 I46 A47 Y54 G55 I58 W70 Y78 V79 K9...              134   \n",
            "...                                                  ...              ...   \n",
            "40448  S76 T77 N78 Q99 R103 G104 R105 R108 W110 L111 ...              296   \n",
            "40449                           K84 N160 E21 F24 S25 K26              248   \n",
            "40452                   V95 G96 F173 I191 M193 D217 V231              273   \n",
            "40453                                        H37 C84 H87               99   \n",
            "40454                                I163 H320 S367 A391              459   \n",
            "\n",
            "                                       Receptor_Sequence  \n",
            "0      MIEIKDKQLTGLRFIDLFAGLGGFRLALESCGAECVYSNEWDKYAQ...  \n",
            "1      AYIAKQRQISFVKSHFSRQLEERLGLIEVQAPILSRVGDGTQDNLS...  \n",
            "2      KESAAAKFERQHMDSGNSPSSSSNYCNLMMCCRKMTQGKCKPVNTF...  \n",
            "3      EKKSINECDLKGKKVLIRVDFNVPVKNGKITNDYRIRSALPTLKKV...  \n",
            "4      NEGDAAKGEKEFNKCKACHMIQAPDGTDIKGGKTGPNLYGVVGRKI...  \n",
            "...                                                  ...  \n",
            "40448  MMNFTLLTYLADCQPKVRSELEKLEEDIQQLREIGLDILVDGQDYR...  \n",
            "40449  EESEILKKREKYNAAPSTLSEEVFSKVSNTMKSPYNSVGTVFIKGE...  \n",
            "40452  EITRPPGVRAHVGVIGGSGLYDPGIVENPVEVKVSTPYGNPSDFIV...  \n",
            "40453  LEVLLGSGDGSLVFVPSEFSVPSGEKIVFKNNAGFPHNVVFDEDEI...  \n",
            "40454  DQSSRYVNLALKEEDLIAGGEHVLCAYIMKPKAGYGYVATAAHFAA...  \n",
            "\n",
            "[38528 rows x 6 columns]\n"
          ]
        }
      ]
    },
    {
      "cell_type": "markdown",
      "source": [
        "**Generate the Fast file(All Ligands)**"
      ],
      "metadata": {
        "id": "3AdKqEEZ56ez"
      }
    },
    {
      "cell_type": "code",
      "source": [
        "import pandas as pd\n",
        "import re\n",
        "import os\n",
        "import zipfile\n",
        "\n",
        "# Load the preprocessed CSV file\n",
        "df = pd.read_csv('all_entries.csv')  # Use the CSV file containing all ligand data\n",
        "\n",
        "# Create a directory to store the FASTA files\n",
        "os.makedirs('fasta_files', exist_ok=True)\n",
        "\n",
        "# Iterate through each unique Ligand_ID\n",
        "for ligand_id in df['Ligand_ID'].unique():\n",
        "    # Filter for the current ligand\n",
        "    ligand_df = df[df['Ligand_ID'] == ligand_id]\n",
        "\n",
        "    # Define the file path for the FASTA file specific to this ligand\n",
        "    fasta_file_path = f'fasta_files/{ligand_id}.fasta'\n",
        "\n",
        "    # Open the FASTA file for writing\n",
        "    with open(fasta_file_path, 'w') as fasta_file:\n",
        "        for _, row in ligand_df.iterrows():\n",
        "            pdb_id = row['PDB_ID']\n",
        "            receptor_chain = row['Chain']  # Make sure to use the renamed 'Chain' column\n",
        "            receptor_sequence = row['Receptor_Sequence']\n",
        "            binding_site_residues = row['Renumbered_Binding_Site_Residues'].split()\n",
        "\n",
        "            # Generate the first FASTA sequence (receptor sequence)\n",
        "            header = f\">{pdb_id}_{receptor_chain}\"\n",
        "            fasta_file.write(f\"{header}\\n\")\n",
        "            fasta_file.write(f\"{receptor_sequence}\\n\")\n",
        "\n",
        "            # Generate the second FASTA sequence (0's and 1's)\n",
        "            sequence_length = len(receptor_sequence)\n",
        "            label_sequence = ['0'] * sequence_length\n",
        "\n",
        "            # Mark the positions corresponding to binding sites as '1'\n",
        "            for residue in binding_site_residues:\n",
        "                # Extract only the numeric part of the residue\n",
        "                residue_number = re.findall(r'\\d+', residue)\n",
        "                if residue_number:\n",
        "                    index = int(residue_number[0]) - 1  # Convert to 0-based index\n",
        "                    if 0 <= index < sequence_length:\n",
        "                        label_sequence[index] = '1'\n",
        "\n",
        "            # Write the labeled sequence to the FASTA file\n",
        "            fasta_file.write(f\"{header}\\n\")\n",
        "            fasta_file.write(f\"{''.join(label_sequence)}\\n\")\n",
        "\n",
        "    #print(f\"FASTA file '{ligand_id}_binding_sites.fasta' has been generated.\")\n",
        "\n",
        "# Zip the FASTA files\n",
        "zip_file_path = 'fasta_files.zip'\n",
        "with zipfile.ZipFile(zip_file_path, 'w') as zipf:\n",
        "    for root, dirs, files in os.walk('fasta_files'):\n",
        "        for file in files:\n",
        "            zipf.write(os.path.join(root, file), os.path.relpath(os.path.join(root, file), 'fasta_files'))\n",
        "\n",
        "# Cleanup: Optionally remove the 'fasta_files' directory after zipping\n",
        "# shutil.rmtree('fasta_files')\n",
        "\n",
        "print(f\"All FASTA files have been zipped into '{zip_file_path}'.\")\n",
        "\n",
        "# Provide a link to download the zip file\n",
        "from google.colab import files\n",
        "files.download(zip_file_path)\n"
      ],
      "metadata": {
        "colab": {
          "base_uri": "https://localhost:8080/",
          "height": 52
        },
        "id": "JXa41rr1OOuT",
        "outputId": "4d4947b5-8c17-4051-be65-dbc020d2c9b1"
      },
      "execution_count": null,
      "outputs": [
        {
          "output_type": "stream",
          "name": "stdout",
          "text": [
            "All FASTA files have been zipped into 'fasta_files.zip'.\n"
          ]
        },
        {
          "output_type": "display_data",
          "data": {
            "text/plain": [
              "<IPython.core.display.Javascript object>"
            ],
            "application/javascript": [
              "\n",
              "    async function download(id, filename, size) {\n",
              "      if (!google.colab.kernel.accessAllowed) {\n",
              "        return;\n",
              "      }\n",
              "      const div = document.createElement('div');\n",
              "      const label = document.createElement('label');\n",
              "      label.textContent = `Downloading \"${filename}\": `;\n",
              "      div.appendChild(label);\n",
              "      const progress = document.createElement('progress');\n",
              "      progress.max = size;\n",
              "      div.appendChild(progress);\n",
              "      document.body.appendChild(div);\n",
              "\n",
              "      const buffers = [];\n",
              "      let downloaded = 0;\n",
              "\n",
              "      const channel = await google.colab.kernel.comms.open(id);\n",
              "      // Send a message to notify the kernel that we're ready.\n",
              "      channel.send({})\n",
              "\n",
              "      for await (const message of channel.messages) {\n",
              "        // Send a message to notify the kernel that we're ready.\n",
              "        channel.send({})\n",
              "        if (message.buffers) {\n",
              "          for (const buffer of message.buffers) {\n",
              "            buffers.push(buffer);\n",
              "            downloaded += buffer.byteLength;\n",
              "            progress.value = downloaded;\n",
              "          }\n",
              "        }\n",
              "      }\n",
              "      const blob = new Blob(buffers, {type: 'application/binary'});\n",
              "      const a = document.createElement('a');\n",
              "      a.href = window.URL.createObjectURL(blob);\n",
              "      a.download = filename;\n",
              "      div.appendChild(a);\n",
              "      a.click();\n",
              "      div.remove();\n",
              "    }\n",
              "  "
            ]
          },
          "metadata": {}
        },
        {
          "output_type": "display_data",
          "data": {
            "text/plain": [
              "<IPython.core.display.Javascript object>"
            ],
            "application/javascript": [
              "download(\"download_45c53351-762c-4e59-bb04-e2d463852b43\", \"fasta_files.zip\", 27409126)"
            ]
          },
          "metadata": {}
        }
      ]
    },
    {
      "cell_type": "markdown",
      "source": [
        "**Counting number of sequences in each fasta file (BioLips files)**"
      ],
      "metadata": {
        "id": "K2bg97FDTwj2"
      }
    },
    {
      "cell_type": "code",
      "source": [
        "import os\n",
        "from collections import defaultdict\n",
        "\n",
        "# Path to the directory containing the FASTA files\n",
        "fasta_directory = \"/content/fasta_files\"  # Change this to your directory\n",
        "\n",
        "# Function to count unique IDs in a FASTA file\n",
        "def count_unique_ids(fasta_file):\n",
        "    unique_ids = set()\n",
        "    with open(fasta_file, \"r\") as file:\n",
        "        for line in file:\n",
        "            if line.startswith(\">\"):\n",
        "                unique_ids.add(line.split()[0])  # Splitting and taking the ID part\n",
        "    return len(unique_ids)\n",
        "\n",
        "# Dictionary to store the filename and unique ID count\n",
        "id_counts = defaultdict(int)\n",
        "\n",
        "# Loop through all FASTA files in the directory\n",
        "for file_name in os.listdir(fasta_directory):\n",
        "    if file_name.endswith(\".fasta\"):\n",
        "        file_path = os.path.join(fasta_directory, file_name)\n",
        "        unique_count = count_unique_ids(file_path)\n",
        "        id_counts[file_name] = unique_count\n",
        "\n",
        "# Sort the dictionary by unique ID count\n",
        "sorted_id_counts = sorted(id_counts.items(), key=lambda x: x[1], reverse=True)\n",
        "\n",
        "# Save the results in a text file\n",
        "with open(\"biolip_ligands_count.txt\", \"w\") as output_file:\n",
        "    output_file.write(\"Filename\".ljust(30) + \"Unique IDs\\n\")\n",
        "    output_file.write(\"-\" * 50 + \"\\n\")\n",
        "    for file_name, count in sorted_id_counts:\n",
        "        output_file.write(file_name.ljust(30) + str(count) + \"\\n\")\n",
        "\n",
        "print(\"Results have been saved to biolip_ligands_count.txt\")\n"
      ],
      "metadata": {
        "colab": {
          "base_uri": "https://localhost:8080/"
        },
        "id": "84SY_NUjVki0",
        "outputId": "a993aa1b-3dcd-4808-99b5-f17b33aaeab1"
      },
      "execution_count": null,
      "outputs": [
        {
          "output_type": "stream",
          "name": "stdout",
          "text": [
            "Results have been saved to biolip_ligands_count.txt\n"
          ]
        }
      ]
    },
    {
      "cell_type": "markdown",
      "source": [
        "**Counting the binding sites in each file**"
      ],
      "metadata": {
        "id": "mG_YsHKzqkAU"
      }
    },
    {
      "cell_type": "code",
      "source": [
        "import os\n",
        "\n",
        "# Define the folder containing FASTA files\n",
        "fasta_folder = \"fasta_files\"\n",
        "output_file = \"binding_site_totals_sorted.txt\"\n",
        "\n",
        "# Function to parse a FASTA file where IDs are duplicated (once for sequence, once for labels)\n",
        "def parse_fasta(file_path):\n",
        "    sequences = []\n",
        "    with open(file_path, \"r\") as f:\n",
        "        lines = f.readlines()\n",
        "\n",
        "        current_id = None\n",
        "        current_sequence = None\n",
        "        current_labels = None\n",
        "\n",
        "        for line in lines:\n",
        "            line = line.strip()\n",
        "            if line.startswith(\">\"):  # Sequence ID line\n",
        "                if current_id is not None and current_sequence is not None and current_labels is not None:\n",
        "                    # Save the previous sequence and labels\n",
        "                    sequences.append((current_id, current_sequence, current_labels))\n",
        "                    current_sequence = None\n",
        "                    current_labels = None\n",
        "\n",
        "                current_id = line\n",
        "            elif all(c in \"01\" for c in line):  # Label line (binary 0s and 1s)\n",
        "                current_labels = line\n",
        "            else:  # Sequence line (protein residues)\n",
        "                current_sequence = line\n",
        "\n",
        "        # Save the last sequence and labels\n",
        "        if current_id is not None and current_sequence is not None and current_labels is not None:\n",
        "            sequences.append((current_id, current_sequence, current_labels))\n",
        "\n",
        "    return sequences\n",
        "\n",
        "# Initialize a dictionary to store total counts for each file\n",
        "file_binding_sites_totals = {}\n",
        "\n",
        "# Iterate over each file in the folder\n",
        "for fasta_file in os.listdir(fasta_folder):\n",
        "    if fasta_file.endswith(\".fasta\"):\n",
        "        file_path = os.path.join(fasta_folder, fasta_file)\n",
        "        total_binding_sites = 0\n",
        "\n",
        "        # Parse the file\n",
        "        sequences = parse_fasta(file_path)\n",
        "\n",
        "        # Calculate the total number of binding sites\n",
        "        for seq_id, sequence, labels in sequences:\n",
        "            total_binding_sites += labels.count('1')\n",
        "\n",
        "        # Store the total binding sites count for this file\n",
        "        file_binding_sites_totals[fasta_file] = total_binding_sites\n",
        "\n",
        "# Sort the files by their total binding site counts in descending order\n",
        "sorted_file_totals = sorted(file_binding_sites_totals.items(), key=lambda x: x[1], reverse=True)\n",
        "\n",
        "# Write the results to the output text file\n",
        "with open(output_file, \"w\") as out_file:\n",
        "    for fasta_file, total_count in sorted_file_totals:\n",
        "        out_file.write(f\"{fasta_file}: {total_count}\\n\")\n",
        "\n",
        "print(f\"Sorted binding site totals have been saved to {output_file}\")\n",
        "\n"
      ],
      "metadata": {
        "colab": {
          "base_uri": "https://localhost:8080/"
        },
        "id": "CFn3OZPxqhj5",
        "outputId": "5b9d8d73-20c5-4b08-c5b3-68e2283e85bf"
      },
      "execution_count": null,
      "outputs": [
        {
          "output_type": "stream",
          "name": "stdout",
          "text": [
            "Sorted binding site totals have been saved to binding_site_totals_sorted.txt\n"
          ]
        }
      ]
    },
    {
      "cell_type": "code",
      "source": [],
      "metadata": {
        "id": "jT_XG4Ysqhg_"
      },
      "execution_count": null,
      "outputs": []
    },
    {
      "cell_type": "code",
      "source": [],
      "metadata": {
        "id": "TYEZ46emqheY"
      },
      "execution_count": null,
      "outputs": []
    },
    {
      "cell_type": "markdown",
      "source": [
        "**Counting the number of sequences and binding sites in each file**"
      ],
      "metadata": {
        "id": "ft0iyYAoxRrK"
      }
    },
    {
      "cell_type": "code",
      "source": [
        "import os\n",
        "\n",
        "# Path to the directory containing the FASTA files\n",
        "fasta_directory = \"fasta_files\"\n",
        "output_file = \"fasta_summary.txt\"\n",
        "\n",
        "# Function to parse a FASTA file where IDs are duplicated (once for sequence, once for labels)\n",
        "def parse_fasta(file_path):\n",
        "    sequences = []\n",
        "    with open(file_path, \"r\") as f:\n",
        "        lines = f.readlines()\n",
        "\n",
        "        current_id = None\n",
        "        current_sequence = None\n",
        "        current_labels = None\n",
        "\n",
        "        for line in lines:\n",
        "            line = line.strip()\n",
        "            if line.startswith(\">\"):  # Sequence ID line\n",
        "                if current_id is not None and current_sequence is not None and current_labels is not None:\n",
        "                    # Save the previous sequence and labels\n",
        "                    sequences.append((current_id, current_sequence, current_labels))\n",
        "                    current_sequence = None\n",
        "                    current_labels = None\n",
        "\n",
        "                current_id = line\n",
        "            elif all(c in \"01\" for c in line):  # Label line (binary 0s and 1s)\n",
        "                current_labels = line\n",
        "            else:  # Sequence line (protein residues)\n",
        "                current_sequence = line\n",
        "\n",
        "        # Save the last sequence and labels\n",
        "        if current_id is not None and current_sequence is not None and current_labels is not None:\n",
        "            sequences.append((current_id, current_sequence, current_labels))\n",
        "\n",
        "    return sequences\n",
        "\n",
        "# Dictionary to store the results for each file\n",
        "fasta_summary = {}\n",
        "\n",
        "# Iterate over each file in the folder\n",
        "for fasta_file in os.listdir(fasta_directory):\n",
        "    if fasta_file.endswith(\".fasta\"):\n",
        "        file_path = os.path.join(fasta_directory, fasta_file)\n",
        "\n",
        "        # Parse the file\n",
        "        sequences = parse_fasta(file_path)\n",
        "\n",
        "        # Count the number of sequences (unique IDs)\n",
        "        unique_ids = {seq_id for seq_id, _, _ in sequences}\n",
        "        num_sequences = len(unique_ids)\n",
        "\n",
        "        # Calculate the total number of binding sites\n",
        "        total_binding_sites = sum(labels.count('1') for _, _, labels in sequences)\n",
        "\n",
        "        # Store the results for this file\n",
        "        fasta_summary[fasta_file] = (num_sequences, total_binding_sites)\n",
        "\n",
        "# Sort the summary by the total number of binding sites in descending order\n",
        "sorted_summary = sorted(fasta_summary.items(), key=lambda x: x[1][1], reverse=True)\n",
        "\n",
        "# Write the results to the output text file\n",
        "with open(output_file, \"w\") as out_file:\n",
        "    out_file.write(\"Filename\".ljust(30) + \"Num Sequences\".ljust(20) + \"Binding Sites\\n\")\n",
        "    out_file.write(\"-\" * 70 + \"\\n\")\n",
        "    for fasta_file, (num_sequences, total_binding_sites) in sorted_summary:\n",
        "        out_file.write(f\"{fasta_file.ljust(30)}{str(num_sequences).ljust(20)}{total_binding_sites}\\n\")\n",
        "\n",
        "print(f\"FASTA file summary has been saved to {output_file}\")\n"
      ],
      "metadata": {
        "colab": {
          "base_uri": "https://localhost:8080/"
        },
        "id": "MhwiAWSaqhbk",
        "outputId": "9e736cf1-607c-47fe-f36b-48be73051f09"
      },
      "execution_count": null,
      "outputs": [
        {
          "output_type": "stream",
          "name": "stdout",
          "text": [
            "FASTA file summary has been saved to fasta_summary.txt\n"
          ]
        }
      ]
    },
    {
      "cell_type": "code",
      "source": [],
      "metadata": {
        "id": "HyriaeE4qhYA"
      },
      "execution_count": null,
      "outputs": []
    },
    {
      "cell_type": "markdown",
      "source": [
        "**Delete all files**"
      ],
      "metadata": {
        "id": "UGEW3p2Rvr_X"
      }
    },
    {
      "cell_type": "code",
      "source": [
        "import os\n",
        "\n",
        "# Get the current directory\n",
        "current_directory =\"/content/fasta_files\"\n",
        "\n",
        "# List all files in the current directory\n",
        "files = os.listdir(current_directory)\n",
        "\n",
        "# Delete all files\n",
        "for file in files:\n",
        "    file_path = os.path.join(current_directory, file)\n",
        "    try:\n",
        "        if os.path.isfile(file_path):\n",
        "            os.remove(file_path)\n",
        "            print(f\"Deleted file: {file_path}\")\n",
        "        elif os.path.isdir(file_path):\n",
        "            # Recursively delete directories\n",
        "            import shutil\n",
        "            shutil.rmtree(file_path)\n",
        "            print(f\"Deleted directory: {file_path}\")\n",
        "    except Exception as e:\n",
        "        print(f\"Error deleting {file_path}: {e}\")\n"
      ],
      "metadata": {
        "id": "0g4nnmsiEfl1",
        "colab": {
          "base_uri": "https://localhost:8080/"
        },
        "outputId": "3279478e-a61b-474c-d9a0-a1522a25b6aa"
      },
      "execution_count": null,
      "outputs": [
        {
          "output_type": "stream",
          "name": "stdout",
          "text": [
            "Deleted directory: /content/.config\n",
            "Deleted file: /content/protein_nr.fasta.gz\n",
            "Deleted file: /content/BioLiP_nr.txt\n",
            "Deleted file: /content/biolip_ligands_count.txt\n",
            "Deleted file: /content/protein_nr.fasta\n",
            "Deleted directory: /content/fasta_files\n",
            "Deleted file: /content/all_entries.csv\n",
            "Deleted file: /content/BioLiP_nr.txt.gz\n",
            "Deleted file: /content/fasta_files.zip\n",
            "Deleted directory: /content/sample_data\n"
          ]
        }
      ]
    }
  ]
}